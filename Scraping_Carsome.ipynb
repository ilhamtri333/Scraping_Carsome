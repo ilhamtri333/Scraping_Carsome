{
 "cells": [
  {
   "cell_type": "code",
   "execution_count": 1,
   "id": "3bd709cf",
   "metadata": {},
   "outputs": [
    {
     "name": "stdout",
     "output_type": "stream",
     "text": [
      "Requirement already satisfied: beautifulsoup4 in c:\\users\\ilham\\anaconda3\\lib\\site-packages (4.10.0)\n",
      "Requirement already satisfied: soupsieve>1.2 in c:\\users\\ilham\\anaconda3\\lib\\site-packages (from beautifulsoup4) (2.2.1)\n",
      "Note: you may need to restart the kernel to use updated packages.\n"
     ]
    }
   ],
   "source": [
    "pip install beautifulsoup4 "
   ]
  },
  {
   "cell_type": "code",
   "execution_count": 28,
   "id": "733d5fcb",
   "metadata": {},
   "outputs": [
    {
     "name": "stdout",
     "output_type": "stream",
     "text": [
      "Masukkan merek kendaraan: honda\n",
      "Masukkan tahun awal kendaraan: brio\n",
      "Masukkan tahun akhir kendaraan: 2018\n",
      "Masukkan jenis kendaraan :2022\n",
      "Data telah disimpan ke dalam file Excel 'C:/Users/ilham/OneDrive/Documents/car_data1.xlsx'\n"
     ]
    }
   ],
   "source": [
    "import requests\n",
    "from bs4 import BeautifulSoup\n",
    "import pandas as pd\n",
    "import re\n",
    "\n",
    "\n",
    "def scrape_olx(merek, yearstart, yearend, jenis_kendaraan):\n",
    "    base_url = 'https://www.carsome.id/beli-mobil-bekas'\n",
    "    search_params = f'/{merek}/{jenis_kendaraan}?year={yearstart},{yearend}'\n",
    "    url = base_url + search_params\n",
    "\n",
    "    response = requests.get(url)\n",
    "    if response.status_code == 200:\n",
    "        soup = BeautifulSoup(response.text, 'html.parser')\n",
    "        car_listings = soup.find_all('a', class_='mod-b-card__title')\n",
    "        \n",
    "        data = []\n",
    "        for car in car_listings:\n",
    "            info = car.find_all('p')\n",
    "            year_model = info[0].get_text(strip=True)\n",
    "            \n",
    "            # Menggunakan regex untuk memisahkan tahun dan merek\n",
    "            match = re.match(r'(\\d{4})\\s*(\\w+)', year_model)\n",
    "            if match:\n",
    "                year = match.group(1)\n",
    "                brand = match.group(2)\n",
    "            else:\n",
    "                year = None\n",
    "                brand = None\n",
    "            \n",
    "            model = info[1].get_text(strip=True)\n",
    "            \n",
    "            # Menemukan informasi km, tipe mobil, dan lokasi\n",
    "            other_info = car.find_next_sibling('div', class_='mod-b-card__car-other').find_all('span')\n",
    "            if len(other_info) >= 3:\n",
    "                mileage = other_info[0].get_text(strip=True)\n",
    "                car_type = other_info[1].get_text(strip=True)\n",
    "                location = other_info[2].get_text(strip=True)\n",
    "            else:\n",
    "                mileage = None\n",
    "                car_type = None\n",
    "                location = None\n",
    "            \n",
    "            # Menemukan harga\n",
    "            price_tag = car.find_next_sibling('div', class_='mod-card__price-cash')\n",
    "            if price_tag:\n",
    "                price = price_tag.get_text(strip=True)\n",
    "            else:\n",
    "                price = None\n",
    "            \n",
    "            data.append([year, brand, model, mileage, car_type, location, price])\n",
    "\n",
    "        # Menyimpan data ke dalam DataFrame pandas\n",
    "        df = pd.DataFrame(data, columns=['Year', 'Brand', 'Model', 'Mileage(KM)', 'Car Type', 'Location', 'Price'])\n",
    "\n",
    "        # Menyimpan DataFrame ke dalam file Excel\n",
    "        excel_file = 'C:/Users/ilham/OneDrive/Documents/car_data_fix.xlsx'\n",
    "        df.to_excel(excel_file, index=False)\n",
    "        print(f\"Data telah disimpan ke dalam file Excel '{excel_file}'\")\n",
    "    else:\n",
    "        print(\"Failed to retrieve page.\")\n",
    "\n",
    "merek = input(\"Masukkan merek kendaraan: \")\n",
    "yearstart = input(\"Masukkan tahun awal kendaraan: \")\n",
    "yearend = input(\"Masukkan tahun akhir kendaraan: \")\n",
    "jenis_kendaraan = input(\"Masukkan jenis kendaraan :\")\n",
    "\n",
    "scrape_olx(merek, yearstart, yearend, jenis_kendaraan)"
   ]
  },
  {
   "cell_type": "code",
   "execution_count": null,
   "id": "8cd3ba38",
   "metadata": {},
   "outputs": [],
   "source": []
  }
 ],
 "metadata": {
  "kernelspec": {
   "display_name": "Python 3 (ipykernel)",
   "language": "python",
   "name": "python3"
  },
  "language_info": {
   "codemirror_mode": {
    "name": "ipython",
    "version": 3
   },
   "file_extension": ".py",
   "mimetype": "text/x-python",
   "name": "python",
   "nbconvert_exporter": "python",
   "pygments_lexer": "ipython3",
   "version": "3.9.7"
  }
 },
 "nbformat": 4,
 "nbformat_minor": 5
}
